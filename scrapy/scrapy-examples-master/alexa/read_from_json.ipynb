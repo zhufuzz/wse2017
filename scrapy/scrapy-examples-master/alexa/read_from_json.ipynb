{
 "cells": [
  {
   "cell_type": "code",
   "execution_count": 1,
   "metadata": {},
   "outputs": [
    {
     "data": {
      "text/plain": [
       "['.ipynb_checkpoints', 'alexa', 'read_from_json.ipynb', 'scrapy.cfg']"
      ]
     },
     "execution_count": 1,
     "metadata": {},
     "output_type": "execute_result"
    }
   ],
   "source": [
    "import os\n",
    "os.listdir('.')"
   ]
  },
  {
   "cell_type": "code",
   "execution_count": 2,
   "metadata": {},
   "outputs": [],
   "source": [
    "fname = 'alexa/cn.json'\n",
    "with open(fname) as f:\n",
    "    import json\n",
    "    alexa_items = []\n",
    "    for line in f:\n",
    "        # print line, type(line)\n",
    "        alexa_item = json.loads(line)\n",
    "        # print alexa_item, type(alexa_item)\n",
    "        alexa_items.append(alexa_item)"
   ]
  },
  {
   "cell_type": "code",
   "execution_count": 3,
   "metadata": {},
   "outputs": [
    {
     "data": {
      "text/plain": [
       "97222"
      ]
     },
     "execution_count": 3,
     "metadata": {},
     "output_type": "execute_result"
    }
   ],
   "source": [
    "len(alexa_items)"
   ]
  },
  {
   "cell_type": "code",
   "execution_count": 4,
   "metadata": {},
   "outputs": [
    {
     "name": "stdout",
     "output_type": "stream",
     "text": [
      "{u'url': u'/siteinfo/taobao.com', u'category': u'World/Chinese_Simplified_CN/\\u8d2d\\u7269', u'name': u'Taobao.com', u'description': u\"Launched in May 2003, Taobao Marketplace (www.taobao.com) is the online shopping destination of choice for Chinese consumers looking for wide selection, value and convenience. Shoppers choose from a wide range of products and services on Taobao Marketplace, which features hundreds of millions of product and service listings. Taobao Marketplace was China's largest online shopping destination in terms of gross merchandise volume in 2013, according to iResearch. Taobao Marketplace is a business within Alibaba Group.\"}\n"
     ]
    }
   ],
   "source": [
    "print(alexa_items[0])"
   ]
  },
  {
   "cell_type": "code",
   "execution_count": 5,
   "metadata": {},
   "outputs": [
    {
     "name": "stdout",
     "output_type": "stream",
     "text": [
      "4321\n"
     ]
    }
   ],
   "source": [
    "category_items = {}\n",
    "for item in alexa_items:\n",
    "    c = item['category']\n",
    "    if c not in category_items:\n",
    "        category_items[c] = []\n",
    "    category_items[c].append(item)\n",
    "print(len(category_items))"
   ]
  },
  {
   "cell_type": "code",
   "execution_count": 6,
   "metadata": {},
   "outputs": [
    {
     "name": "stdout",
     "output_type": "stream",
     "text": [
      "World/Chinese_Simplified_CN/游戏 525\n",
      "亚洲/中国/浙江 525\n",
      "参考/教育/大专院校与研究所 525\n",
      "亚洲/中国/四川 525\n",
      "亚洲/中国/江苏 525\n",
      "Chinese_Simplified_CN/参考/教育 525\n",
      "中国/浙江/宁波 525\n",
      "World/Chinese_Simplified_CN/商业 525\n",
      "亚洲/中国/上海 525\n",
      "亚洲/中国/北京 525\n"
     ]
    }
   ],
   "source": [
    "counts = {}\n",
    "for category, items in category_items.items():\n",
    "    counts[category] = len(items)\n",
    "import operator\n",
    "sorted_counts = sorted(counts.items(), key=operator.itemgetter(1), reverse=True)\n",
    "for category, counts in sorted_counts[:10]:\n",
    "    print category, counts"
   ]
  },
  {
   "cell_type": "code",
   "execution_count": 10,
   "metadata": {},
   "outputs": [
    {
     "name": "stdout",
     "output_type": "stream",
     "text": [
      "World/Chinese_Simplified_CN/游戏 525\n",
      "亚洲/中国/浙江 525\n",
      "Chinese_Simplified_CN/计算机/互联网络 525\n",
      "亚洲/中国/四川 525\n",
      "亚洲/中国/江苏 525\n",
      "Chinese_Simplified_CN/参考/教育 525\n",
      "中国/浙江/宁波 525\n",
      "World/Chinese_Simplified_CN/商业 525\n",
      "亚洲/中国/上海 525\n",
      "亚洲/中国/北京 525\n"
     ]
    }
   ],
   "source": [
    "for k in sorted(category_items, key=lambda k: len(category_items[k]), reverse=True)[:10]:\n",
    "    print k, len(category_items[k])"
   ]
  },
  {
   "cell_type": "code",
   "execution_count": null,
   "metadata": {},
   "outputs": [],
   "source": [
    ""
   ]
  }
 ],
 "metadata": {
  "name": "",
  "signature": "sha256:dbba45689f23842648309c4a39cd1ee227f5a770ba34b5efbd7bec23856ef28d"
 },
 "nbformat": 4,
 "nbformat_minor": 0
}